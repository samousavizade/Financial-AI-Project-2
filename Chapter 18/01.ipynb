{
 "cells": [
  {
   "cell_type": "markdown",
   "metadata": {},
   "source": [
    "# Visualize Image Filter\n",
    "\n",
    "## Imports"
   ]
  },
  {
   "cell_type": "code",
   "execution_count": null,
   "metadata": {},
   "outputs": [],
   "source": [
    "using Images, FileIO"
   ]
  },
  {
   "cell_type": "markdown",
   "metadata": {},
   "source": [
    "## Import the Image"
   ]
  },
  {
   "cell_type": "markdown",
   "metadata": {},
   "source": [
    "### Load Image"
   ]
  },
  {
   "cell_type": "code",
   "execution_count": null,
   "metadata": {},
   "outputs": [],
   "source": [
    "# Feel free to try out your own images\n",
    "img_path = \"./images/building.png\";"
   ]
  },
  {
   "cell_type": "code",
   "execution_count": null,
   "metadata": {},
   "outputs": [],
   "source": [
    "# load color image \n",
    "rgb_img = load(img_path);\n",
    "rgb_img"
   ]
  },
  {
   "cell_type": "markdown",
   "metadata": {},
   "source": [
    "### Save Image\n",
    "To save an image, you can just use ``save(img_path, img)``, where save is also provided by FileIO."
   ]
  },
  {
   "cell_type": "markdown",
   "metadata": {},
   "source": [
    "#### Make a Copy\n",
    "``img_c = img[51:70, 21:70]``\n",
    "#### Make a View\n",
    "``img_v = @view img[16:35, 41:90]``\n",
    "\n",
    "As you might know, changing the value of a view would affect the original image, while changing that of a copy doesn't.\n",
    "\n",
    "### Array elements are pixels (and vice versa)\n",
    "\n",
    "Elements of image are called pixels; in JuliaImages we provide an abstraction on this concept. For example, we have `Gray` for grayscale image, `RGB` for RGB image, `Lab` for Lab image, and etc.\n",
    "\n",
    "Creating a pixel is initializing a struct of that type:"
   ]
  },
  {
   "cell_type": "code",
   "execution_count": null,
   "metadata": {},
   "outputs": [],
   "source": [
    "Gray(0.0) # white"
   ]
  },
  {
   "cell_type": "code",
   "execution_count": null,
   "metadata": {},
   "outputs": [],
   "source": [
    "RGB(1.0, 0.0, 1.0) # purple"
   ]
  },
  {
   "cell_type": "markdown",
   "metadata": {},
   "source": [
    "and image is just an array of pixel objects:"
   ]
  },
  {
   "cell_type": "code",
   "execution_count": null,
   "metadata": {},
   "outputs": [],
   "source": [
    "img_gray = rand(Gray, 3, 3);\n",
    "img_gray"
   ]
  },
  {
   "cell_type": "code",
   "execution_count": null,
   "metadata": {},
   "outputs": [],
   "source": [
    "img_rgb = rand(RGB, 3, 3);\n",
    "img_rgb"
   ]
  },
  {
   "cell_type": "code",
   "execution_count": null,
   "metadata": {},
   "outputs": [],
   "source": [
    "img_lab = rand(Lab, 3, 3);\n",
    "img_lab"
   ]
  },
  {
   "cell_type": "markdown",
   "metadata": {},
   "source": [
    "As you can see, both `img_rgb` and `img_lab` images are of size (3, 3) (instead of (3, 3, 3)); a RGB image is an array of `RGB` pixels whereas a Lab image is an array of `Lab` pixel."
   ]
  },
  {
   "cell_type": "markdown",
   "metadata": {},
   "source": [
    "### Color conversions are construction/view\n",
    "\n",
    "Conversions between different `Colorants` are straightforward:"
   ]
  },
  {
   "cell_type": "code",
   "execution_count": null,
   "metadata": {},
   "outputs": [],
   "source": [
    "gray_img = Gray.(rgb_img);"
   ]
  },
  {
   "cell_type": "markdown",
   "metadata": {},
   "source": [
    "### Resize To Smaller"
   ]
  },
  {
   "cell_type": "code",
   "execution_count": null,
   "metadata": {},
   "outputs": [],
   "source": [
    "using ImageTransformations"
   ]
  },
  {
   "cell_type": "code",
   "execution_count": null,
   "metadata": {},
   "outputs": [],
   "source": [
    "small_img = imresize(gray_img, ratio=0.3);"
   ]
  },
  {
   "cell_type": "markdown",
   "metadata": {},
   "source": [
    "### Plot Image"
   ]
  },
  {
   "cell_type": "code",
   "execution_count": null,
   "metadata": {},
   "outputs": [],
   "source": [
    "using Plots\n",
    "\n",
    "plot(small_img)"
   ]
  },
  {
   "cell_type": "markdown",
   "metadata": {},
   "source": [
    "## Specify the Filters"
   ]
  },
  {
   "cell_type": "code",
   "execution_count": null,
   "metadata": {},
   "outputs": [],
   "source": [
    "using Plots"
   ]
  },
  {
   "cell_type": "code",
   "execution_count": null,
   "metadata": {},
   "outputs": [],
   "source": [
    "# Feel free to modify the numbers here, to try out another filter!\n",
    "filter_vals = [-1 -1 1 1; -1 -1 1 1; -1 -1 1 1; -1 -1 1 1];"
   ]
  },
  {
   "cell_type": "code",
   "execution_count": null,
   "metadata": {},
   "outputs": [],
   "source": [
    "# define four filters\n",
    "filter_1 = filter_vals;\n",
    "filter_2 = -filter_1;\n",
    "filter_3 = filter_1';\n",
    "filter_4 = -filter_3;\n",
    "filters = [filter_1, filter_2, filter_3, filter_4];"
   ]
  },
  {
   "cell_type": "markdown",
   "metadata": {},
   "source": [
    "## Visualize the Activation Maps for Each Filter"
   ]
  },
  {
   "cell_type": "code",
   "execution_count": null,
   "metadata": {},
   "outputs": [],
   "source": [
    "f = Figure();\n",
    "image(f[1, 1], rotr90(rgb_img), axis = (aspect = DataAspect(), title = \"Small Image\",));\n",
    "f"
   ]
  },
  {
   "cell_type": "markdown",
   "metadata": {},
   "source": [
    "### Define single-layer CNN"
   ]
  },
  {
   "cell_type": "code",
   "execution_count": null,
   "metadata": {},
   "outputs": [],
   "source": [
    "using Flux, CUDA\n",
    "\n",
    "cnn = Flux.Chain(\n",
    "    Flux.Conv((4, 4), 1 => 1)\n",
    ");"
   ]
  },
  {
   "cell_type": "code",
   "execution_count": null,
   "metadata": {},
   "outputs": [],
   "source": [
    "cnn"
   ]
  },
  {
   "cell_type": "markdown",
   "metadata": {},
   "source": [
    "### Apply convolutional filter and return output"
   ]
  },
  {
   "cell_type": "code",
   "execution_count": null,
   "metadata": {},
   "outputs": [],
   "source": [
    "using CairoMakie"
   ]
  },
  {
   "cell_type": "code",
   "execution_count": null,
   "metadata": {},
   "outputs": [],
   "source": [
    "results = map(kernel -> [kernel, Float64.(imfilter(small_img, kernel))], filters);"
   ]
  },
  {
   "cell_type": "code",
   "execution_count": null,
   "metadata": {},
   "outputs": [],
   "source": [
    "h, w = size(small_img)"
   ]
  },
  {
   "cell_type": "code",
   "execution_count": null,
   "metadata": {},
   "outputs": [],
   "source": [
    "f = Figure(backgroundcolor = RGBf(0.5, 0.5, 0.5),\n",
    "    resolution = (w // 2, h));\n",
    "\n",
    "for (row, (kernel, filtered_img)) ∈ enumerate(results)\n",
    "    image(f[row, 1], rotr90(kernel), axis = (aspect = DataAspect(), title = \"kernel $row\",));\n",
    "    image(f[row, 2], rotr90(filtered_img), axis = (aspect = DataAspect(), title = \"filtered image\",));\n",
    "end\n",
    "f"
   ]
  }
 ],
 "metadata": {
  "interpreter": {
   "hash": "6f81bd9540777417bbcd25f4a0dbfc40af4eb92579579dbd9c9f026aa409e85e"
  },
  "kernelspec": {
   "display_name": "Julia 1.7.0",
   "language": "julia",
   "name": "julia-1.7"
  },
  "language_info": {
   "file_extension": ".jl",
   "mimetype": "application/julia",
   "name": "julia",
   "version": "1.7.0"
  },
  "orig_nbformat": 4
 },
 "nbformat": 4,
 "nbformat_minor": 2
}
